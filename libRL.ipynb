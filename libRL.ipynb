{
  "nbformat": 4,
  "nbformat_minor": 0,
  "metadata": {
    "colab": {
      "name": "libRL.ipynb",
      "provenance": [],
      "private_outputs": true,
      "collapsed_sections": [],
      "include_colab_link": true
    },
    "kernelspec": {
      "name": "python3",
      "display_name": "Python 3"
    }
  },
  "cells": [
    {
      "cell_type": "markdown",
      "metadata": {
        "id": "view-in-github",
        "colab_type": "text"
      },
      "source": [
        "<a href=\"https://colab.research.google.com/github/1mikegrn/colab/blob/master/libRL.ipynb\" target=\"_parent\"><img src=\"https://colab.research.google.com/assets/colab-badge.svg\" alt=\"Open In Colab\"/></a>"
      ]
    },
    {
      "cell_type": "markdown",
      "metadata": {
        "id": "OTpXHbknmHKC",
        "colab_type": "text"
      },
      "source": [
        "#libRL.ipynb\n",
        "---\n",
        "\n",
        "How to use this jupyter notebook:\n",
        "---\n",
        "\n",
        "For Part 1:\n",
        "To the left of each cell on this page is a set of brackets [ ] which, when the mouse is hovered over, displays a play button. Press the play button of each cell *sequentially* until the entire page has been cycled through.\n",
        "\n",
        "\n",
        "For Part 2:\n",
        "Each cell containes the necessary functionality to run the calculation and save the results to your local machine. Change the inputs as specified in the DocSite\n",
        "(*note, some kwarg features may not be available as this is run on a google server*) and save the resulting data when prompted.\n",
        "\n",
        "---\n",
        "\n",
        "Final note: some boxes have comments, be sure to read these comments and follow any instructions therein."
      ]
    },
    {
      "cell_type": "markdown",
      "metadata": {
        "id": "0ZQDLdBTsWBN",
        "colab_type": "text"
      },
      "source": [
        "Part 1:"
      ]
    },
    {
      "cell_type": "code",
      "metadata": {
        "colab_type": "code",
        "id": "QMml73n2JrrW",
        "colab": {}
      },
      "source": [
        "# Comment: running this box installs the libRL library from github. Expect the \n",
        "# box to expand and show the downloading process.\n",
        "pip install git+https://github.com/1mikegrn/libRL@v1.1.2"
      ],
      "execution_count": 0,
      "outputs": []
    },
    {
      "cell_type": "code",
      "metadata": {
        "id": "FKD8BihHU-7W",
        "colab_type": "code",
        "colab": {}
      },
      "source": [
        "import libRL\n",
        "import pandas as pd\n",
        "from google.colab import files"
      ],
      "execution_count": 0,
      "outputs": []
    },
    {
      "cell_type": "code",
      "metadata": {
        "id": "-U50zah3R3KH",
        "colab_type": "code",
        "colab": {}
      },
      "source": [
        "# Comment: running this box will prompt a button which contains the label \n",
        "# 'Choose Files'. Press this button and navigate to the Excel data file you wish\n",
        "# to use for calculation.\n",
        "\n",
        "uploaded = files.upload()\n"
      ],
      "execution_count": 0,
      "outputs": []
    },
    {
      "cell_type": "markdown",
      "metadata": {
        "id": "5lxbY7-nsTB-",
        "colab_type": "text"
      },
      "source": [
        "Part 2:"
      ]
    },
    {
      "cell_type": "code",
      "metadata": {
        "id": "8spcCgUpTgLR",
        "colab_type": "code",
        "colab": {}
      },
      "source": [
        "for upload in uploaded:\n",
        "    reflection_loss = libRL.reflection_loss(\n",
        "        data=upload,\n",
        "        f_set=(1,18,0.1),\n",
        "        d_set=(0,20,0.1),\n",
        "        interp='cubic',\n",
        "        multiprocessing=True,\n",
        "        multicolumn=True,\n",
        "        as_dataframe=True\n",
        "    )\n",
        "\n",
        "    reflection_loss.to_excel(\"reflection_loss.xlsx\")\n",
        "\n",
        "    files.download('reflection_loss.xlsx')"
      ],
      "execution_count": 0,
      "outputs": []
    },
    {
      "cell_type": "code",
      "metadata": {
        "id": "VyXEiiwad6vX",
        "colab_type": "code",
        "colab": {}
      },
      "source": [
        "for upload in uploaded:\n",
        "    characterization = libRL.characterization(\n",
        "        data=upload,\n",
        "        f_set=(1,18,0.1),\n",
        "        params='all',\n",
        "        as_dataframe=True\n",
        "    )\n",
        "    \n",
        "    characterization.to_excel(\"characterization.xlsx\")\n",
        "\n",
        "    files.download('characterization.xlsx')"
      ],
      "execution_count": 0,
      "outputs": []
    },
    {
      "cell_type": "code",
      "metadata": {
        "id": "oLcYHIoCtHBF",
        "colab_type": "code",
        "colab": {}
      },
      "source": [
        "for upload in uploaded:\n",
        "    band_analysis = libRL.band_analysis(\n",
        "        data=upload,\n",
        "        f_set=(1,18,0.1),\n",
        "        d_set=(1,5,0.1),\n",
        "        m_set=[1,2,3,4,5],\n",
        "        thrs=-10,\n",
        "        as_dataframe=True\n",
        "    )\n",
        "\n",
        "    band_analysis.to_excel(\"band_analysis.xlsx\")\n",
        "\n",
        "    files.download('band_analysis.xlsx')"
      ],
      "execution_count": 0,
      "outputs": []
    }
  ]
}