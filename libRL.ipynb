{
  "nbformat": 4,
  "nbformat_minor": 0,
  "metadata": {
    "colab": {
      "name": "libRL.ipynb",
      "provenance": [],
      "private_outputs": true,
      "collapsed_sections": [],
      "include_colab_link": true
    },
    "kernelspec": {
      "name": "python3",
      "display_name": "Python 3"
    }
  },
  "cells": [
    {
      "cell_type": "markdown",
      "metadata": {
        "id": "view-in-github",
        "colab_type": "text"
      },
      "source": [
        "<a href=\"https://colab.research.google.com/github/1mikegrn/colab/blob/master/libRL.ipynb\" target=\"_parent\"><img src=\"https://colab.research.google.com/assets/colab-badge.svg\" alt=\"Open In Colab\"/></a>"
      ]
    },
    {
      "cell_type": "markdown",
      "metadata": {
        "id": "OTpXHbknmHKC",
        "colab_type": "text"
      },
      "source": [
        "How to use this jupyter notebook:\n",
        "\n",
        "    To the left of each cell on this page is a set of brackets [ ] which, when the mouse is hovered over, displays a play button. \n",
        "    Press the play button of each cell *sequentially* until the entire page has been cycled through.\n",
        "\n",
        "    Note: some boxes have comments, be sure to read these comments and follow any instructions therein."
      ]
    },
    {
      "cell_type": "code",
      "metadata": {
        "colab_type": "code",
        "id": "QMml73n2JrrW",
        "colab": {}
      },
      "source": [
        "# Comment: running this box installs the libRL library from github. Expect the \n",
        "# box to expand and show the downloading process. The notebook will be ready \n",
        "# when the text 'Sucessfully built libRL' is displayed.\n",
        "pip install git+https://github.com/1mikegrn/libRL@v1.1.2"
      ],
      "execution_count": 0,
      "outputs": []
    },
    {
      "cell_type": "code",
      "metadata": {
        "id": "FKD8BihHU-7W",
        "colab_type": "code",
        "colab": {}
      },
      "source": [
        "import libRL\n",
        "import pandas as pd\n",
        "from google.colab import files"
      ],
      "execution_count": 0,
      "outputs": []
    },
    {
      "cell_type": "code",
      "metadata": {
        "id": "-U50zah3R3KH",
        "colab_type": "code",
        "colab": {}
      },
      "source": [
        "# Comment: running this box will prompt a button which contains the label \n",
        "# 'Choose Files'. Press this button and navigate to the Excel data file you wish\n",
        "# to use for calculation.\n",
        "\n",
        "uploaded = files.upload()\n"
      ],
      "execution_count": 0,
      "outputs": []
    },
    {
      "cell_type": "code",
      "metadata": {
        "id": "j-yBSIMtT0rd",
        "colab_type": "code",
        "colab": {}
      },
      "source": [
        "for upload in uploaded:\n",
        "    data = pd.read_excel(upload, sheet_name=None)\n",
        "\n",
        "print(data)"
      ],
      "execution_count": 0,
      "outputs": []
    },
    {
      "cell_type": "code",
      "metadata": {
        "id": "8spcCgUpTgLR",
        "colab_type": "code",
        "colab": {}
      },
      "source": [
        "for upload in uploaded:\n",
        "    reflection_loss = libRL.reflection_loss(\n",
        "        data=upload,\n",
        "        f_set=(1,18,1),\n",
        "        d_set=(0,20,1),\n",
        "        interp='cubic',\n",
        "        multiprocessing=True,\n",
        "        multicolumn=True,\n",
        "        as_dataframe=True\n",
        "    )"
      ],
      "execution_count": 0,
      "outputs": []
    },
    {
      "cell_type": "code",
      "metadata": {
        "id": "VyXEiiwad6vX",
        "colab_type": "code",
        "colab": {}
      },
      "source": [
        "# running this block will prompt a saving function to save the calculated data \n",
        "# to your local computer.\n",
        "\n",
        "reflection_loss.to_excel(\"reflection_loss.xlsx\")\n",
        "\n",
        "files.download('reflection_loss.xlsx')"
      ],
      "execution_count": 0,
      "outputs": []
    }
  ]
}